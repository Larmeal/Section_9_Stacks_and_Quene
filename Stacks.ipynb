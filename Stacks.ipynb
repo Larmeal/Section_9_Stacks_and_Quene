{
 "cells": [
  {
   "cell_type": "code",
   "execution_count": 2,
   "metadata": {},
   "outputs": [],
   "source": [
    "# Create Stack class that imitate stack data type, one of data structure type\n",
    "class Stack:\n",
    "\n",
    "    def __init__(self, *arg):\n",
    "        self.stack = [n for n in arg]\n",
    "        self.label = {}\n",
    "\n",
    "    # Showed the position of current value, previous and next\n",
    "    def label_(self, previous, middle):\n",
    "        self.label = {\n",
    "            \"Previous\": previous,\n",
    "            \"Value\": middle,\n",
    "            \"Next\": None\n",
    "        }\n",
    "\n",
    "        return self.label\n",
    "\n",
    "    # Added value on the top of pile\n",
    "    def push(self, value):\n",
    "        self.stack.append(value)\n",
    "        self.middle = self.stack[-1]\n",
    "        if len(self.stack) == 1:\n",
    "            self.previous = None\n",
    "            \n",
    "        else:\n",
    "            self.previous = self.stack[-2]\n",
    "\n",
    "        self.label = self.label_(self.previous, self.middle)\n",
    "        return self.label\n",
    "\n",
    "    # removed value on the top of pile\n",
    "    def pop(self):\n",
    "        self.stack.pop()\n",
    "        self.middle = self.stack[-1]\n",
    "        if len(self.stack) == 1:\n",
    "            self.previous = None\n",
    "            \n",
    "        else:\n",
    "            self.previous = self.stack[-2]\n",
    "\n",
    "        self.label = self.label_(self.previous, self.middle)\n",
    "        return self.label\n",
    "\n",
    "    # showed value on the top of pile\n",
    "    def peek(self):\n",
    "        self.middle = self.stack[-1]\n",
    "        if len(self.stack) == 1:\n",
    "            self.previous = None\n",
    "            \n",
    "        else:\n",
    "            self.previous = self.stack[-2]\n",
    "\n",
    "        self.label = self.label_(self.previous, self.middle)\n",
    "        return self.label"
   ]
  },
  {
   "cell_type": "code",
   "execution_count": 3,
   "metadata": {},
   "outputs": [
    {
     "name": "stdout",
     "output_type": "stream",
     "text": [
      "[1, 2, 5, 6]\n"
     ]
    }
   ],
   "source": [
    "test_1 = Stack(1, 2, 5, 6)\n",
    "print(test_1.stack)"
   ]
  },
  {
   "cell_type": "code",
   "execution_count": 4,
   "metadata": {},
   "outputs": [
    {
     "name": "stdout",
     "output_type": "stream",
     "text": [
      "[1, 2, 5, 6]\n",
      "{'Previous': 6, 'Value': 1, 'Next': None}\n",
      "[1, 2, 5, 6, 1]\n"
     ]
    }
   ],
   "source": [
    "print(test_1.stack)\n",
    "print(test_1.push(1))\n",
    "print(test_1.stack)"
   ]
  },
  {
   "cell_type": "code",
   "execution_count": 5,
   "metadata": {},
   "outputs": [
    {
     "name": "stdout",
     "output_type": "stream",
     "text": [
      "[1, 2, 5, 6, 1]\n",
      "{'Previous': 5, 'Value': 6, 'Next': None}\n",
      "[1, 2, 5, 6]\n"
     ]
    }
   ],
   "source": [
    "print(test_1.stack)\n",
    "print(test_1.pop())\n",
    "print(test_1.stack)"
   ]
  },
  {
   "cell_type": "code",
   "execution_count": 7,
   "metadata": {},
   "outputs": [
    {
     "name": "stdout",
     "output_type": "stream",
     "text": [
      "[1, 2, 5, 6]\n",
      "{'Previous': 6, 'Value': 8, 'Next': None}\n",
      "[1, 2, 5, 6, 8]\n"
     ]
    }
   ],
   "source": [
    "print(test_1.stack)\n",
    "print(test_1.push(8))\n",
    "print(test_1.stack)"
   ]
  },
  {
   "cell_type": "code",
   "execution_count": 8,
   "metadata": {},
   "outputs": [
    {
     "name": "stdout",
     "output_type": "stream",
     "text": [
      "[1, 2, 5, 6, 8]\n",
      "{'Previous': 6, 'Value': 8, 'Next': None}\n",
      "[1, 2, 5, 6, 8]\n"
     ]
    }
   ],
   "source": [
    "print(test_1.stack)\n",
    "print(test_1.peek())\n",
    "print(test_1.stack)"
   ]
  },
  {
   "cell_type": "code",
   "execution_count": null,
   "metadata": {},
   "outputs": [],
   "source": []
  }
 ],
 "metadata": {
  "interpreter": {
   "hash": "0dd272924c7cc597c5889018966c2ccb6c9651b4aec44649117dbf66b8c76eee"
  },
  "kernelspec": {
   "display_name": "Python 3.10.2 64-bit",
   "language": "python",
   "name": "python3"
  },
  "language_info": {
   "codemirror_mode": {
    "name": "ipython",
    "version": 3
   },
   "file_extension": ".py",
   "mimetype": "text/x-python",
   "name": "python",
   "nbconvert_exporter": "python",
   "pygments_lexer": "ipython3",
   "version": "3.10.2"
  },
  "orig_nbformat": 4
 },
 "nbformat": 4,
 "nbformat_minor": 2
}
