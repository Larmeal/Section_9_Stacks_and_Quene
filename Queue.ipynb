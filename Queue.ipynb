{
 "cells": [
  {
   "cell_type": "code",
   "execution_count": 20,
   "metadata": {},
   "outputs": [],
   "source": [
    "class Queue:\n",
    "\n",
    "    def __init__(self, arr):\n",
    "        self.array = [arr]\n",
    "        self.label = {}\n",
    "\n",
    "    def label_(self, previous, middle, next_):\n",
    "        self.label = {\n",
    "            \"Previous\": previous,\n",
    "            \"Value\": middle,\n",
    "            \"Next\": next_\n",
    "        }\n",
    "\n",
    "        return self.label\n",
    "\n",
    "    def enqueue(self, value):\n",
    "        self.array.append(value)\n",
    "        self.middle = self.array[-1]\n",
    "        self.next_ = None\n",
    "\n",
    "        if len(self.array) > 1:\n",
    "            self.previous = self.array[-2]\n",
    "            \n",
    "        else:\n",
    "            self.previous = None\n",
    "\n",
    "        return self.label_(self.previous, self.middle, self.next_)\n",
    "\n",
    "    def dequeue(self):\n",
    "        \n",
    "        self.previous_b = None\n",
    "        self.next_b = None\n",
    "        \n",
    "        if len(self.array) > 1:\n",
    "            self.next_b = self.array[1]\n",
    "            self.middle_b = self.array[0]\n",
    "        elif len(self.array) < 1:\n",
    "            self.middle_b = None\n",
    "        else:\n",
    "            self.middle_b = self.array[0]\n",
    "            \n",
    "        self.label_b = self.label_(self.previous_b, self.middle_b, self.next_b)\n",
    "\n",
    "        self.array.pop(0)\n",
    "        \n",
    "        self.previous_a = None\n",
    "        self.next_a = None\n",
    "        \n",
    "        if len(self.array) > 1:\n",
    "            self.next_a = self.array[1]\n",
    "            self.middle_a = self.array[0]\n",
    "        elif len(self.array) < 1:\n",
    "            self.middle_a = None\n",
    "        else:\n",
    "            self.middle_a = self.array[0]\n",
    "    \n",
    "        self.label_a = self.label_(self.previous_a, self.middle_a, self.next_a)\n",
    "\n",
    "        return f\"{self.label_b,} \\n{self.label_a}\"\n"
   ]
  },
  {
   "cell_type": "code",
   "execution_count": 21,
   "metadata": {},
   "outputs": [
    {
     "name": "stdout",
     "output_type": "stream",
     "text": [
      "[0]\n",
      "{'Previous': 0, 'Value': 3, 'Next': None}\n",
      "[0, 3]\n"
     ]
    }
   ],
   "source": [
    "test_1 = Queue(0)\n",
    "print(test_1.array)\n",
    "print(test_1.enqueue(3))\n",
    "print(test_1.array)"
   ]
  },
  {
   "cell_type": "code",
   "execution_count": 22,
   "metadata": {},
   "outputs": [
    {
     "name": "stdout",
     "output_type": "stream",
     "text": [
      "[0, 3]\n",
      "({'Previous': None, 'Value': 0, 'Next': 3},) \n",
      "{'Previous': None, 'Value': 3, 'Next': None}\n",
      "[3]\n"
     ]
    }
   ],
   "source": [
    "print(test_1.array)\n",
    "print(test_1.dequeue())\n",
    "print(test_1.array)"
   ]
  },
  {
   "cell_type": "code",
   "execution_count": 23,
   "metadata": {},
   "outputs": [
    {
     "name": "stdout",
     "output_type": "stream",
     "text": [
      "[3]\n",
      "({'Previous': None, 'Value': 3, 'Next': None},) \n",
      "{'Previous': None, 'Value': None, 'Next': None}\n",
      "[]\n"
     ]
    }
   ],
   "source": [
    "print(test_1.array)\n",
    "print(test_1.dequeue())\n",
    "print(test_1.array)"
   ]
  },
  {
   "cell_type": "code",
   "execution_count": null,
   "metadata": {},
   "outputs": [],
   "source": []
  }
 ],
 "metadata": {
  "interpreter": {
   "hash": "0dd272924c7cc597c5889018966c2ccb6c9651b4aec44649117dbf66b8c76eee"
  },
  "kernelspec": {
   "display_name": "Python 3.10.2 64-bit",
   "language": "python",
   "name": "python3"
  },
  "language_info": {
   "codemirror_mode": {
    "name": "ipython",
    "version": 3
   },
   "file_extension": ".py",
   "mimetype": "text/x-python",
   "name": "python",
   "nbconvert_exporter": "python",
   "pygments_lexer": "ipython3",
   "version": "3.10.2"
  },
  "orig_nbformat": 4
 },
 "nbformat": 4,
 "nbformat_minor": 2
}
